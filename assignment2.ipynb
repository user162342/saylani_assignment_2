{
 "cells": [
  {
   "cell_type": "markdown",
   "metadata": {},
   "source": [
    "#Q1 "
   ]
  },
  {
   "cell_type": "code",
   "execution_count": 1,
   "metadata": {},
   "outputs": [
    {
     "name": "stdout",
     "output_type": "stream",
     "text": [
      "Welcome! this is a program to calulate area of rectangles\n",
      "The formula for calculating an area is 𝐴𝒓𝒆𝒂 = 𝒍𝒆𝒏𝒈𝒕𝒉 × 𝒘𝒊𝒅𝒕h.\n",
      "The area of your rectangle is 100.0cm\n"
     ]
    }
   ],
   "source": [
    "print(\"Welcome! this is a program to calulate area of rectangles\")\n",
    "print(\"The formula for calculating an area is 𝐴𝒓𝒆𝒂 = 𝒍𝒆𝒏𝒈𝒕𝒉 × 𝒘𝒊𝒅𝒕h.\")\n",
    "width = float(input(\"please enter the width of your rectangle in cm\"))\n",
    "length = float(input(\"please enter the length of your rectangle in cm\"))\n",
    "area = width * length\n",
    "print(\"The area of your rectangle is \" + str(area) + \"cm\")"
   ]
  },
  {
   "cell_type": "markdown",
   "metadata": {},
   "source": [
    "#Q2"
   ]
  },
  {
   "cell_type": "code",
   "execution_count": 2,
   "metadata": {},
   "outputs": [
    {
     "name": "stdout",
     "output_type": "stream",
     "text": [
      "Welcome! this is a program to calulate circumference of circles\n",
      "The formula for calculating circumference of circle is 𝑪𝒊𝒓𝒄𝒖𝒎𝒇𝒆𝒓𝒆𝒏𝒄𝒆 = 𝟐𝝅r.\n",
      "The circumference of your circle is 62.83185307179586cm\n"
     ]
    }
   ],
   "source": [
    "print(\"Welcome! this is a program to calulate circumference of circles\")\n",
    "print(\"The formula for calculating circumference of circle is 𝑪𝒊𝒓𝒄𝒖𝒎𝒇𝒆𝒓𝒆𝒏𝒄𝒆 = 𝟐𝝅r.\")\n",
    "pie = 3.141592653589793238462643383279502884197\n",
    "radius = float(input(\"please enter the radius of your circle in cm\"))\n",
    "circumference = 2 * pie * radius\n",
    "print(\"The circumference of your circle is \" + str(circumference) + \"cm\")"
   ]
  },
  {
   "cell_type": "markdown",
   "metadata": {},
   "source": [
    "#Q3 "
   ]
  },
  {
   "cell_type": "code",
   "execution_count": 3,
   "metadata": {},
   "outputs": [
    {
     "name": "stdout",
     "output_type": "stream",
     "text": [
      "Welcome! this is a program to calculate the simple interest\n",
      "The formula for calculating simple interest is 𝑺𝒊𝒎𝒑𝒍𝒆 𝑰𝒏𝒕𝒆𝒓𝒆𝒔𝒕 = 𝑷𝒓𝒊𝒏𝒄𝒊𝒑𝒂𝒍 × 𝑹𝒂𝒕𝒆 × 𝑻𝒊𝒎e.\n",
      "The simple interest is 1000.0\n"
     ]
    }
   ],
   "source": [
    "print(\"Welcome! this is a program to calculate the simple interest\")\n",
    "print(\"The formula for calculating simple interest is 𝑺𝒊𝒎𝒑𝒍𝒆 𝑰𝒏𝒕𝒆𝒓𝒆𝒔𝒕 = 𝑷𝒓𝒊𝒏𝒄𝒊𝒑𝒂𝒍 × 𝑹𝒂𝒕𝒆 × 𝑻𝒊𝒎e.\")\n",
    "time = float(input(\"please enter the time in minutes\"))\n",
    "rate = float(input(\"please enter the Rate\"))\n",
    "principal = float(input(\"please enter the principle\"))\n",
    "interest = rate * time * principal\n",
    "print(\"The simple interest is \" + str(interest))"
   ]
  },
  {
   "cell_type": "markdown",
   "metadata": {},
   "source": [
    "#Q4 "
   ]
  },
  {
   "cell_type": "code",
   "execution_count": 4,
   "metadata": {},
   "outputs": [
    {
     "name": "stdout",
     "output_type": "stream",
     "text": [
      "Welcome! This is a Python program to calculate the speed of an object.\n",
      "The formula for calculating speed is Speed = Distance / Time.\n",
      "The speed is 60.0 km/h\n"
     ]
    }
   ],
   "source": [
    "print(\"Welcome! This is a Python program to calculate the speed of an object.\")\n",
    "print(\"The formula for calculating speed is Speed = Distance / Time.\")\n",
    "\n",
    "time = float(input(\"Please enter the time taken (in minutes): \"))\n",
    "time_in_hours = time / 60\n",
    "distance = float(input(\"Please enter the distance (in kilometers): \"))\n",
    "speed = distance / time_in_hours\n",
    "print(\"The speed is \" + str(speed) + \" km/h\")\n"
   ]
  },
  {
   "cell_type": "markdown",
   "metadata": {},
   "source": [
    "#Q5 \n"
   ]
  },
  {
   "cell_type": "code",
   "execution_count": 5,
   "metadata": {},
   "outputs": [
    {
     "name": "stdout",
     "output_type": "stream",
     "text": [
      "Welcome! This is a Python program to calculate the Body Mass Index (BMI)\n",
      "The formula for calculating it is BMI = weight(kg)/(Height)**2\n",
      "The BMI is 1.0\n"
     ]
    }
   ],
   "source": [
    "print(\"Welcome! This is a Python program to calculate the Body Mass Index (BMI)\")\n",
    "print(\"The formula for calculating it is BMI = weight(kg)/(Height)**2\")\n",
    "\n",
    "weight = float(input(\"Please enter the weight (in kg): \"))\n",
    "height = float(input(\"Please enter the height (in meters): \"))\n",
    "bmi = weight / height\n",
    "print(\"The BMI is \" + str(bmi))"
   ]
  },
  {
   "cell_type": "markdown",
   "metadata": {},
   "source": [
    "#Q6 \n"
   ]
  },
  {
   "cell_type": "code",
   "execution_count": 6,
   "metadata": {},
   "outputs": [
    {
     "name": "stdout",
     "output_type": "stream",
     "text": [
      "Welcome! This is a Python program to calculate the force on an object\n",
      "The formula for calculating it is F = ma\n",
      "The force is 100.0\n"
     ]
    }
   ],
   "source": [
    "print(\"Welcome! This is a Python program to calculate the force on an object\")\n",
    "print(\"The formula for calculating it is F = ma\")\n",
    "\n",
    "mass = float(input(\"Please enter the mass (in kg): \"))\n",
    "acceleration = float(input(\"Please enter the acceleration (in meters/second²): \"))\n",
    "F = mass * acceleration\n",
    "print(\"The force is \" + str(F))"
   ]
  },
  {
   "cell_type": "markdown",
   "metadata": {},
   "source": [
    "#Q7\n"
   ]
  },
  {
   "cell_type": "code",
   "execution_count": 7,
   "metadata": {},
   "outputs": [
    {
     "name": "stdout",
     "output_type": "stream",
     "text": [
      "Welcome! This is a Python program to calculate compound interest.\n",
      "The formula: A = P * (1 + r/n)**(n*t)\n",
      "A = total amount\n",
      "P = principal amount\n",
      "r = annual interest rate (decimal)\n",
      "n = number of times interest is compounded per year\n",
      "t = time in years\n",
      "The total amount after 10.0 years is: 12676506002282294014967032053760.00\n"
     ]
    }
   ],
   "source": [
    "print(\"Welcome! This is a Python program to calculate compound interest.\")\n",
    "print(\"The formula: A = P * (1 + r/n)**(n*t)\")\n",
    "\n",
    "print(\"A = total amount\")\n",
    "print(\"P = principal amount\")\n",
    "print(\"r = annual interest rate (decimal)\")\n",
    "print(\"n = number of times interest is compounded per year\")\n",
    "print(\"t = time in years\")\n",
    "\n",
    "# Collect inputs from the user\n",
    "P = float(input(\"Please enter the principal amount: \"))\n",
    "r = float(input(\"Please enter the annual interest rate (in decimal): \"))\n",
    "n = float(input(\"Please enter the number of times interest is compounded per year: \"))\n",
    "t = float(input(\"Please enter the time in years: \"))\n",
    "\n",
    "# Calculate compound interest\n",
    "A = P * (1 + r / n) ** (n * t)\n",
    "\n",
    "# Display the result\n",
    "print(f\"The total amount after {t} years is: {A:.2f}\")\n"
   ]
  },
  {
   "cell_type": "markdown",
   "metadata": {},
   "source": [
    "#Q8 \n"
   ]
  },
  {
   "cell_type": "code",
   "execution_count": 8,
   "metadata": {},
   "outputs": [
    {
     "name": "stdout",
     "output_type": "stream",
     "text": [
      "Welcome! This is a Python program to calculate the Perimeter of a triangle\n",
      "The formula for calculating it is 𝑷𝒆𝒓𝒊𝒎𝒆𝒕𝒆𝒓 = 𝒂 + 𝒃 + 𝒄\n",
      "The force is 30.0\n"
     ]
    }
   ],
   "source": [
    "print(\"Welcome! This is a Python program to calculate the Perimeter of a triangle\")\n",
    "print(\"The formula for calculating it is 𝑷𝒆𝒓𝒊𝒎𝒆𝒕𝒆𝒓 = 𝒂 + 𝒃 + 𝒄\")\n",
    "\n",
    "a = float(input(\"Please enter the value of the first side \"))\n",
    "b = float(input(\"Please enter the value of the second side \"))\n",
    "c = float(input(\"Please enter the value of the third side \"))\n",
    "ans = a + b + c\n",
    "print(\"The force is \" + str(ans))"
   ]
  },
  {
   "cell_type": "markdown",
   "metadata": {},
   "source": [
    "#Q9 \n"
   ]
  },
  {
   "cell_type": "code",
   "execution_count": 9,
   "metadata": {},
   "outputs": [
    {
     "name": "stdout",
     "output_type": "stream",
     "text": [
      "Welcome! This is a Python program to calculate the volume of a sphere.\n",
      "The formula for calculating it is: volume = (4/3)πr³\n",
      "The volume of the sphere is: 4188.79 cubic cm\n"
     ]
    }
   ],
   "source": [
    "print(\"Welcome! This is a Python program to calculate the volume of a sphere.\")\n",
    "print(\"The formula for calculating it is: volume = (4/3)πr³\")\n",
    "\n",
    "radius = float(input(\"Please enter the radius (in cm): \"))\n",
    "pi = 3.141592653589793\n",
    "volume = (4 / 3) * pi * (radius ** 3)\n",
    "print(f\"The volume of the sphere is: {volume:.2f} cubic cm\")\n"
   ]
  },
  {
   "cell_type": "markdown",
   "metadata": {},
   "source": [
    "#Q10 \n"
   ]
  },
  {
   "cell_type": "code",
   "execution_count": 10,
   "metadata": {},
   "outputs": [
    {
     "name": "stdout",
     "output_type": "stream",
     "text": [
      "Welcome! This is a Python program to calculate the kinetic energy of an object.\n",
      "The formula for calculating it is: KE = 0.5 * m * v²\n",
      "The kinetic energy of the object is: 500.00 Joules\n"
     ]
    }
   ],
   "source": [
    "print(\"Welcome! This is a Python program to calculate the kinetic energy of an object.\")\n",
    "print(\"The formula for calculating it is: KE = 0.5 * m * v²\")\n",
    "\n",
    "mass = float(input(\"Please enter the mass (in kg): \"))\n",
    "velocity = float(input(\"Please enter the velocity (in m/s): \"))\n",
    "kinetic_energy = 0.5 * mass * (velocity ** 2)\n",
    "print(f\"The kinetic energy of the object is: {kinetic_energy:.2f} Joules\")\n"
   ]
  },
  {
   "cell_type": "markdown",
   "metadata": {},
   "source": [
    "#Q11\n"
   ]
  },
  {
   "cell_type": "code",
   "execution_count": 11,
   "metadata": {},
   "outputs": [
    {
     "name": "stdout",
     "output_type": "stream",
     "text": [
      "Welcome! This is a Python program to find the roots of a quadratic equation.\n",
      "The formula for calculating it is: x = (-b ± √(b² - 4ac)) / 2a\n",
      "The roots of the quadratic equation are: -0.50+0.87j and -0.50-0.87j\n"
     ]
    }
   ],
   "source": [
    "print(\"Welcome! This is a Python program to find the roots of a quadratic equation.\")\n",
    "print(\"The formula for calculating it is: x = (-b ± √(b² - 4ac)) / 2a\")\n",
    "\n",
    "a = float(input(\"Please enter the value of a: \"))\n",
    "b = float(input(\"Please enter the value of b: \"))\n",
    "c = float(input(\"Please enter the value of c: \"))\n",
    "discriminant = (b ** 2) - (4 * a * c)\n",
    "root1 = (-b + discriminant ** 0.5) / (2 * a)\n",
    "root2 = (-b - discriminant ** 0.5) / (2 * a)\n",
    "print(f\"The roots of the quadratic equation are: {root1:.2f} and {root2:.2f}\")\n"
   ]
  },
  {
   "cell_type": "markdown",
   "metadata": {},
   "source": [
    "#Q12\n"
   ]
  },
  {
   "cell_type": "code",
   "execution_count": 12,
   "metadata": {},
   "outputs": [
    {
     "name": "stdout",
     "output_type": "stream",
     "text": [
      "Welcome! This is a Python program to convert Celsius to Fahrenheit.\n",
      "The formula for calculating it is: F = (C × 9/5) + 32\n",
      "The temperature in Fahrenheit is: 50.00\n"
     ]
    }
   ],
   "source": [
    "print(\"Welcome! This is a Python program to convert Celsius to Fahrenheit.\")\n",
    "print(\"The formula for calculating it is: F = (C × 9/5) + 32\")\n",
    "\n",
    "celsius = float(input(\"Please enter the temperature in Celsius: \"))\n",
    "fahrenheit = (celsius * 9 / 5) + 32\n",
    "print(f\"The temperature in Fahrenheit is: {fahrenheit:.2f}\")\n"
   ]
  },
  {
   "cell_type": "markdown",
   "metadata": {},
   "source": [
    "#Q13\n"
   ]
  },
  {
   "cell_type": "code",
   "execution_count": 13,
   "metadata": {},
   "outputs": [
    {
     "name": "stdout",
     "output_type": "stream",
     "text": [
      "Welcome! This is a Python program to calculate the gravitational force between two objects.\n",
      "The formula for calculating it is: F = G * (m1 * m2) / r²\n",
      "The gravitational force is: 6.67e-11 Newtons\n"
     ]
    }
   ],
   "source": [
    "print(\"Welcome! This is a Python program to calculate the gravitational force between two objects.\")\n",
    "print(\"The formula for calculating it is: F = G * (m1 * m2) / r²\")\n",
    "\n",
    "m1 = float(input(\"Please enter the mass of the first object (in kg): \"))\n",
    "m2 = float(input(\"Please enter the mass of the second object (in kg): \"))\n",
    "r = float(input(\"Please enter the distance between the objects (in meters): \"))\n",
    "G = 6.67430e-11\n",
    "force = G * (m1 * m2) / (r ** 2)\n",
    "print(f\"The gravitational force is: {force:.2e} Newtons\")\n"
   ]
  },
  {
   "cell_type": "markdown",
   "metadata": {},
   "source": [
    "#Q14 "
   ]
  },
  {
   "cell_type": "code",
   "execution_count": 14,
   "metadata": {},
   "outputs": [
    {
     "name": "stdout",
     "output_type": "stream",
     "text": [
      "Welcome! This is a Python program to calculate the volume of a cylinder.\n",
      "The formula for calculating it is: volume = πr²h\n",
      "The volume of the cylinder is: 3141.59 cubic cm\n"
     ]
    }
   ],
   "source": [
    "print(\"Welcome! This is a Python program to calculate the volume of a cylinder.\")\n",
    "print(\"The formula for calculating it is: volume = πr²h\")\n",
    "\n",
    "radius = float(input(\"Please enter the radius (in cm): \"))\n",
    "height = float(input(\"Please enter the height (in cm): \"))\n",
    "pi = 3.141592653589793\n",
    "volume = pi * (radius ** 2) * height\n",
    "print(f\"The volume of the cylinder is: {volume:.2f} cubic cm\")\n"
   ]
  },
  {
   "cell_type": "markdown",
   "metadata": {},
   "source": [
    "#Q15\n"
   ]
  },
  {
   "cell_type": "code",
   "execution_count": 15,
   "metadata": {},
   "outputs": [
    {
     "name": "stdout",
     "output_type": "stream",
     "text": [
      "Welcome! This is a Python program to calculate pressure.\n",
      "The formula for calculating it is: P = F / A\n",
      "The pressure is: 1.00 Pascals\n"
     ]
    }
   ],
   "source": [
    "print(\"Welcome! This is a Python program to calculate pressure.\")\n",
    "print(\"The formula for calculating it is: P = F / A\")\n",
    "\n",
    "force = float(input(\"Please enter the force (in Newtons): \"))\n",
    "area = float(input(\"Please enter the area (in square meters): \"))\n",
    "pressure = force / area\n",
    "print(f\"The pressure is: {pressure:.2f} Pascals\")\n"
   ]
  },
  {
   "cell_type": "markdown",
   "metadata": {},
   "source": [
    "#Q16 \n"
   ]
  },
  {
   "cell_type": "code",
   "execution_count": 16,
   "metadata": {},
   "outputs": [
    {
     "name": "stdout",
     "output_type": "stream",
     "text": [
      "Welcome! This is a Python program to calculate electric power.\n",
      "The formula for calculating it is: P = V * I\n",
      "The electric power is: 100.00 Watts\n"
     ]
    }
   ],
   "source": [
    "print(\"Welcome! This is a Python program to calculate electric power.\")\n",
    "print(\"The formula for calculating it is: P = V * I\")\n",
    "\n",
    "voltage = float(input(\"Please enter the voltage (in Volts): \"))\n",
    "current = float(input(\"Please enter the current (in Amperes): \"))\n",
    "power = voltage * current\n",
    "print(f\"The electric power is: {power:.2f} Watts\")\n"
   ]
  },
  {
   "cell_type": "markdown",
   "metadata": {},
   "source": [
    "#Q17 "
   ]
  },
  {
   "cell_type": "code",
   "execution_count": 17,
   "metadata": {},
   "outputs": [
    {
     "name": "stdout",
     "output_type": "stream",
     "text": [
      "Welcome! This is a Python program to calculate the perimeter of a circle.\n",
      "The formula for calculating it is: circumference = 2πr\n",
      "The perimeter of the circle is: 62.83 cm\n"
     ]
    }
   ],
   "source": [
    "print(\"Welcome! This is a Python program to calculate the perimeter of a circle.\")\n",
    "print(\"The formula for calculating it is: circumference = 2πr\")\n",
    "\n",
    "radius = float(input(\"Please enter the radius (in cm): \"))\n",
    "pi = 3.141592653589793\n",
    "circumference = 2 * pi * radius\n",
    "print(f\"The perimeter of the circle is: {circumference:.2f} cm\")\n"
   ]
  },
  {
   "cell_type": "markdown",
   "metadata": {},
   "source": [
    "#Q18 \n"
   ]
  },
  {
   "cell_type": "code",
   "execution_count": 18,
   "metadata": {},
   "outputs": [
    {
     "name": "stdout",
     "output_type": "stream",
     "text": [
      "Welcome! This is a Python program to calculate the future value of savings.\n",
      "The formula for calculating it is: FV = PV * (1 + r) ** t\n",
      "The future value of the investment is: 15158673573804496787548374834697020510431052159016058905174563084816452205952967767566979568811548421914624.00\n"
     ]
    }
   ],
   "source": [
    "print(\"Welcome! This is a Python program to calculate the future value of savings.\")\n",
    "print(\"The formula for calculating it is: FV = PV * (1 + r) ** t\")\n",
    "\n",
    "present_value = float(input(\"Please enter the present value: \"))\n",
    "rate = float(input(\"Please enter the annual interest rate (as a decimal): \"))\n",
    "time = float(input(\"Please enter the time in years: \"))\n",
    "future_value = present_value * (1 + rate) ** time\n",
    "print(f\"The future value of the investment is: {future_value:.2f}\")\n"
   ]
  },
  {
   "cell_type": "markdown",
   "metadata": {},
   "source": [
    "#Q19 \n"
   ]
  },
  {
   "cell_type": "code",
   "execution_count": 19,
   "metadata": {},
   "outputs": [
    {
     "name": "stdout",
     "output_type": "stream",
     "text": [
      "Welcome! This is a Python program to calculate work done by a force.\n",
      "The formula for calculating it is: W = F * d * cos(θ)\n",
      "The work done is: 0.02 Joules\n"
     ]
    }
   ],
   "source": [
    "print(\"Welcome! This is a Python program to calculate work done by a force.\")\n",
    "print(\"The formula for calculating it is: W = F * d * cos(θ)\")\n",
    "\n",
    "force = float(input(\"Please enter the force (in Newtons): \"))\n",
    "distance = float(input(\"Please enter the distance (in meters): \"))\n",
    "angle = float(input(\"Please enter the angle (in degrees): \"))\n",
    "work_done = force * distance * (angle / 180 * 3.141592653589793)\n",
    "print(f\"The work done is: {work_done:.2f} Joules\")\n",
    "    "
   ]
  },
  {
   "cell_type": "markdown",
   "metadata": {},
   "source": [
    "#Q20 \n"
   ]
  },
  {
   "cell_type": "code",
   "execution_count": 21,
   "metadata": {},
   "outputs": [
    {
     "name": "stdout",
     "output_type": "stream",
     "text": [
      "Welcome! This is a Python program to calculate heat transfer.\n",
      "The formula for calculating it is: Q = m * c * ΔT\n",
      "The heat transferred is: 1440.00 Joules\n"
     ]
    }
   ],
   "source": [
    "print(\"Welcome! This is a Python program to calculate heat transfer.\")\n",
    "print(\"The formula for calculating it is: Q = m * c * ΔT\")\n",
    "\n",
    "mass = float(input(\"Please enter the mass (in kg): \"))\n",
    "specific_heat = float(input(\"Please enter the specific heat capacity (in J/kg°C): \"))\n",
    "temp_change = float(input(\"Please enter the temperature change (in °C): \"))\n",
    "heat_transfer = mass * specific_heat * temp_change\n",
    "print(f\"The heat transferred is: {heat_transfer:.2f} Joules\")\n"
   ]
  }
 ],
 "metadata": {
  "kernelspec": {
   "display_name": "Python 3",
   "language": "python",
   "name": "python3"
  },
  "language_info": {
   "codemirror_mode": {
    "name": "ipython",
    "version": 3
   },
   "file_extension": ".py",
   "mimetype": "text/x-python",
   "name": "python",
   "nbconvert_exporter": "python",
   "pygments_lexer": "ipython3",
   "version": "3.13.0"
  }
 },
 "nbformat": 4,
 "nbformat_minor": 2
}
